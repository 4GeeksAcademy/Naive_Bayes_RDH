{
    "cells": [
        {
            "cell_type": "markdown",
            "metadata": {},
            "source": [
                "# Explore here"
            ]
        },
        {
            "cell_type": "code",
            "execution_count": 1,
            "metadata": {},
            "outputs": [],
            "source": [
                "import pandas as pd\n",
                "import numpy as np\n",
                "from sklearn.datasets import load_iris\n",
                "from sklearn.model_selection import train_test_split\n",
                "from sklearn.naive_bayes import MultinomialNB\n",
                "from sklearn.feature_extraction.text import CountVectorizer\n",
                "from sklearn.metrics import *\n",
                "import string\n",
                "from sklearn.model_selection import GridSearchCV"
            ]
        },
        {
            "cell_type": "code",
            "execution_count": 2,
            "metadata": {},
            "outputs": [
                {
                    "data": {
                        "text/html": [
                            "<div>\n",
                            "<style scoped>\n",
                            "    .dataframe tbody tr th:only-of-type {\n",
                            "        vertical-align: middle;\n",
                            "    }\n",
                            "\n",
                            "    .dataframe tbody tr th {\n",
                            "        vertical-align: top;\n",
                            "    }\n",
                            "\n",
                            "    .dataframe thead th {\n",
                            "        text-align: right;\n",
                            "    }\n",
                            "</style>\n",
                            "<table border=\"1\" class=\"dataframe\">\n",
                            "  <thead>\n",
                            "    <tr style=\"text-align: right;\">\n",
                            "      <th></th>\n",
                            "      <th>package_name</th>\n",
                            "      <th>review</th>\n",
                            "      <th>polarity</th>\n",
                            "    </tr>\n",
                            "  </thead>\n",
                            "  <tbody>\n",
                            "    <tr>\n",
                            "      <th>0</th>\n",
                            "      <td>com.facebook.katana</td>\n",
                            "      <td>privacy at least put some option appear offli...</td>\n",
                            "      <td>0</td>\n",
                            "    </tr>\n",
                            "    <tr>\n",
                            "      <th>1</th>\n",
                            "      <td>com.facebook.katana</td>\n",
                            "      <td>messenger issues ever since the last update, ...</td>\n",
                            "      <td>0</td>\n",
                            "    </tr>\n",
                            "    <tr>\n",
                            "      <th>2</th>\n",
                            "      <td>com.facebook.katana</td>\n",
                            "      <td>profile any time my wife or anybody has more ...</td>\n",
                            "      <td>0</td>\n",
                            "    </tr>\n",
                            "    <tr>\n",
                            "      <th>3</th>\n",
                            "      <td>com.facebook.katana</td>\n",
                            "      <td>the new features suck for those of us who don...</td>\n",
                            "      <td>0</td>\n",
                            "    </tr>\n",
                            "    <tr>\n",
                            "      <th>4</th>\n",
                            "      <td>com.facebook.katana</td>\n",
                            "      <td>forced reload on uploading pic on replying co...</td>\n",
                            "      <td>0</td>\n",
                            "    </tr>\n",
                            "    <tr>\n",
                            "      <th>...</th>\n",
                            "      <td>...</td>\n",
                            "      <td>...</td>\n",
                            "      <td>...</td>\n",
                            "    </tr>\n",
                            "    <tr>\n",
                            "      <th>886</th>\n",
                            "      <td>com.rovio.angrybirds</td>\n",
                            "      <td>loved it i loooooooooooooovvved it because it...</td>\n",
                            "      <td>1</td>\n",
                            "    </tr>\n",
                            "    <tr>\n",
                            "      <th>887</th>\n",
                            "      <td>com.rovio.angrybirds</td>\n",
                            "      <td>all time legendary game the birthday party le...</td>\n",
                            "      <td>1</td>\n",
                            "    </tr>\n",
                            "    <tr>\n",
                            "      <th>888</th>\n",
                            "      <td>com.rovio.angrybirds</td>\n",
                            "      <td>ads are way to heavy listen to the bad review...</td>\n",
                            "      <td>0</td>\n",
                            "    </tr>\n",
                            "    <tr>\n",
                            "      <th>889</th>\n",
                            "      <td>com.rovio.angrybirds</td>\n",
                            "      <td>fun works perfectly well. ads aren't as annoy...</td>\n",
                            "      <td>1</td>\n",
                            "    </tr>\n",
                            "    <tr>\n",
                            "      <th>890</th>\n",
                            "      <td>com.rovio.angrybirds</td>\n",
                            "      <td>they're everywhere i see angry birds everywhe...</td>\n",
                            "      <td>1</td>\n",
                            "    </tr>\n",
                            "  </tbody>\n",
                            "</table>\n",
                            "<p>891 rows × 3 columns</p>\n",
                            "</div>"
                        ],
                        "text/plain": [
                            "             package_name                                             review  \\\n",
                            "0     com.facebook.katana   privacy at least put some option appear offli...   \n",
                            "1     com.facebook.katana   messenger issues ever since the last update, ...   \n",
                            "2     com.facebook.katana   profile any time my wife or anybody has more ...   \n",
                            "3     com.facebook.katana   the new features suck for those of us who don...   \n",
                            "4     com.facebook.katana   forced reload on uploading pic on replying co...   \n",
                            "..                    ...                                                ...   \n",
                            "886  com.rovio.angrybirds   loved it i loooooooooooooovvved it because it...   \n",
                            "887  com.rovio.angrybirds   all time legendary game the birthday party le...   \n",
                            "888  com.rovio.angrybirds   ads are way to heavy listen to the bad review...   \n",
                            "889  com.rovio.angrybirds   fun works perfectly well. ads aren't as annoy...   \n",
                            "890  com.rovio.angrybirds   they're everywhere i see angry birds everywhe...   \n",
                            "\n",
                            "     polarity  \n",
                            "0           0  \n",
                            "1           0  \n",
                            "2           0  \n",
                            "3           0  \n",
                            "4           0  \n",
                            "..        ...  \n",
                            "886         1  \n",
                            "887         1  \n",
                            "888         0  \n",
                            "889         1  \n",
                            "890         1  \n",
                            "\n",
                            "[891 rows x 3 columns]"
                        ]
                    },
                    "execution_count": 2,
                    "metadata": {},
                    "output_type": "execute_result"
                }
            ],
            "source": [
                "df = pd.read_csv('/workspaces/Naive_Bayes_RDH/data/raw/playstore_reviews.csv')\n",
                "df"
            ]
        },
        {
            "cell_type": "markdown",
            "metadata": {},
            "source": [
                "Eliminaremos la columna del tipo de aplicación porque no aportaría nada al modelo si lo que queremos es predecir a partir de los comentarios (por conteo de palabras) si es positivo o negativo"
            ]
        },
        {
            "cell_type": "code",
            "execution_count": 3,
            "metadata": {},
            "outputs": [],
            "source": [
                "#Eliminar la columna de 'package_name'\n",
                "df_sentences = df.drop(columns = 'package_name')"
            ]
        },
        {
            "cell_type": "code",
            "execution_count": 4,
            "metadata": {},
            "outputs": [
                {
                    "data": {
                        "text/html": [
                            "<div>\n",
                            "<style scoped>\n",
                            "    .dataframe tbody tr th:only-of-type {\n",
                            "        vertical-align: middle;\n",
                            "    }\n",
                            "\n",
                            "    .dataframe tbody tr th {\n",
                            "        vertical-align: top;\n",
                            "    }\n",
                            "\n",
                            "    .dataframe thead th {\n",
                            "        text-align: right;\n",
                            "    }\n",
                            "</style>\n",
                            "<table border=\"1\" class=\"dataframe\">\n",
                            "  <thead>\n",
                            "    <tr style=\"text-align: right;\">\n",
                            "      <th></th>\n",
                            "      <th>review</th>\n",
                            "      <th>polarity</th>\n",
                            "    </tr>\n",
                            "  </thead>\n",
                            "  <tbody>\n",
                            "    <tr>\n",
                            "      <th>0</th>\n",
                            "      <td>privacy at least put some option appear offli...</td>\n",
                            "      <td>0</td>\n",
                            "    </tr>\n",
                            "    <tr>\n",
                            "      <th>1</th>\n",
                            "      <td>messenger issues ever since the last update, ...</td>\n",
                            "      <td>0</td>\n",
                            "    </tr>\n",
                            "    <tr>\n",
                            "      <th>2</th>\n",
                            "      <td>profile any time my wife or anybody has more ...</td>\n",
                            "      <td>0</td>\n",
                            "    </tr>\n",
                            "    <tr>\n",
                            "      <th>3</th>\n",
                            "      <td>the new features suck for those of us who don...</td>\n",
                            "      <td>0</td>\n",
                            "    </tr>\n",
                            "    <tr>\n",
                            "      <th>4</th>\n",
                            "      <td>forced reload on uploading pic on replying co...</td>\n",
                            "      <td>0</td>\n",
                            "    </tr>\n",
                            "    <tr>\n",
                            "      <th>...</th>\n",
                            "      <td>...</td>\n",
                            "      <td>...</td>\n",
                            "    </tr>\n",
                            "    <tr>\n",
                            "      <th>886</th>\n",
                            "      <td>loved it i loooooooooooooovvved it because it...</td>\n",
                            "      <td>1</td>\n",
                            "    </tr>\n",
                            "    <tr>\n",
                            "      <th>887</th>\n",
                            "      <td>all time legendary game the birthday party le...</td>\n",
                            "      <td>1</td>\n",
                            "    </tr>\n",
                            "    <tr>\n",
                            "      <th>888</th>\n",
                            "      <td>ads are way to heavy listen to the bad review...</td>\n",
                            "      <td>0</td>\n",
                            "    </tr>\n",
                            "    <tr>\n",
                            "      <th>889</th>\n",
                            "      <td>fun works perfectly well. ads aren't as annoy...</td>\n",
                            "      <td>1</td>\n",
                            "    </tr>\n",
                            "    <tr>\n",
                            "      <th>890</th>\n",
                            "      <td>they're everywhere i see angry birds everywhe...</td>\n",
                            "      <td>1</td>\n",
                            "    </tr>\n",
                            "  </tbody>\n",
                            "</table>\n",
                            "<p>891 rows × 2 columns</p>\n",
                            "</div>"
                        ],
                        "text/plain": [
                            "                                                review  polarity\n",
                            "0     privacy at least put some option appear offli...         0\n",
                            "1     messenger issues ever since the last update, ...         0\n",
                            "2     profile any time my wife or anybody has more ...         0\n",
                            "3     the new features suck for those of us who don...         0\n",
                            "4     forced reload on uploading pic on replying co...         0\n",
                            "..                                                 ...       ...\n",
                            "886   loved it i loooooooooooooovvved it because it...         1\n",
                            "887   all time legendary game the birthday party le...         1\n",
                            "888   ads are way to heavy listen to the bad review...         0\n",
                            "889   fun works perfectly well. ads aren't as annoy...         1\n",
                            "890   they're everywhere i see angry birds everywhe...         1\n",
                            "\n",
                            "[891 rows x 2 columns]"
                        ]
                    },
                    "execution_count": 4,
                    "metadata": {},
                    "output_type": "execute_result"
                }
            ],
            "source": [
                "df_sentences"
            ]
        },
        {
            "cell_type": "code",
            "execution_count": 5,
            "metadata": {},
            "outputs": [
                {
                    "data": {
                        "text/html": [
                            "<div>\n",
                            "<style scoped>\n",
                            "    .dataframe tbody tr th:only-of-type {\n",
                            "        vertical-align: middle;\n",
                            "    }\n",
                            "\n",
                            "    .dataframe tbody tr th {\n",
                            "        vertical-align: top;\n",
                            "    }\n",
                            "\n",
                            "    .dataframe thead th {\n",
                            "        text-align: right;\n",
                            "    }\n",
                            "</style>\n",
                            "<table border=\"1\" class=\"dataframe\">\n",
                            "  <thead>\n",
                            "    <tr style=\"text-align: right;\">\n",
                            "      <th></th>\n",
                            "      <th>review</th>\n",
                            "      <th>polarity</th>\n",
                            "      <th>review_cleaned</th>\n",
                            "    </tr>\n",
                            "  </thead>\n",
                            "  <tbody>\n",
                            "    <tr>\n",
                            "      <th>0</th>\n",
                            "      <td>privacy at least put some option appear offli...</td>\n",
                            "      <td>0</td>\n",
                            "      <td>privacy at least put some option appear offli...</td>\n",
                            "    </tr>\n",
                            "    <tr>\n",
                            "      <th>1</th>\n",
                            "      <td>messenger issues ever since the last update, ...</td>\n",
                            "      <td>0</td>\n",
                            "      <td>messenger issues ever since the last update i...</td>\n",
                            "    </tr>\n",
                            "    <tr>\n",
                            "      <th>2</th>\n",
                            "      <td>profile any time my wife or anybody has more ...</td>\n",
                            "      <td>0</td>\n",
                            "      <td>profile any time my wife or anybody has more ...</td>\n",
                            "    </tr>\n",
                            "    <tr>\n",
                            "      <th>3</th>\n",
                            "      <td>the new features suck for those of us who don...</td>\n",
                            "      <td>0</td>\n",
                            "      <td>the new features suck for those of us who don...</td>\n",
                            "    </tr>\n",
                            "    <tr>\n",
                            "      <th>4</th>\n",
                            "      <td>forced reload on uploading pic on replying co...</td>\n",
                            "      <td>0</td>\n",
                            "      <td>forced reload on uploading pic on replying co...</td>\n",
                            "    </tr>\n",
                            "    <tr>\n",
                            "      <th>...</th>\n",
                            "      <td>...</td>\n",
                            "      <td>...</td>\n",
                            "      <td>...</td>\n",
                            "    </tr>\n",
                            "    <tr>\n",
                            "      <th>886</th>\n",
                            "      <td>loved it i loooooooooooooovvved it because it...</td>\n",
                            "      <td>1</td>\n",
                            "      <td>loved it i loooooooooooooovvved it because it...</td>\n",
                            "    </tr>\n",
                            "    <tr>\n",
                            "      <th>887</th>\n",
                            "      <td>all time legendary game the birthday party le...</td>\n",
                            "      <td>1</td>\n",
                            "      <td>all time legendary game the birthday party le...</td>\n",
                            "    </tr>\n",
                            "    <tr>\n",
                            "      <th>888</th>\n",
                            "      <td>ads are way to heavy listen to the bad review...</td>\n",
                            "      <td>0</td>\n",
                            "      <td>ads are way to heavy listen to the bad review...</td>\n",
                            "    </tr>\n",
                            "    <tr>\n",
                            "      <th>889</th>\n",
                            "      <td>fun works perfectly well. ads aren't as annoy...</td>\n",
                            "      <td>1</td>\n",
                            "      <td>fun works perfectly well ads arent as annoyin...</td>\n",
                            "    </tr>\n",
                            "    <tr>\n",
                            "      <th>890</th>\n",
                            "      <td>they're everywhere i see angry birds everywhe...</td>\n",
                            "      <td>1</td>\n",
                            "      <td>theyre everywhere i see angry birds everywher...</td>\n",
                            "    </tr>\n",
                            "  </tbody>\n",
                            "</table>\n",
                            "<p>891 rows × 3 columns</p>\n",
                            "</div>"
                        ],
                        "text/plain": [
                            "                                                review  polarity  \\\n",
                            "0     privacy at least put some option appear offli...         0   \n",
                            "1     messenger issues ever since the last update, ...         0   \n",
                            "2     profile any time my wife or anybody has more ...         0   \n",
                            "3     the new features suck for those of us who don...         0   \n",
                            "4     forced reload on uploading pic on replying co...         0   \n",
                            "..                                                 ...       ...   \n",
                            "886   loved it i loooooooooooooovvved it because it...         1   \n",
                            "887   all time legendary game the birthday party le...         1   \n",
                            "888   ads are way to heavy listen to the bad review...         0   \n",
                            "889   fun works perfectly well. ads aren't as annoy...         1   \n",
                            "890   they're everywhere i see angry birds everywhe...         1   \n",
                            "\n",
                            "                                        review_cleaned  \n",
                            "0     privacy at least put some option appear offli...  \n",
                            "1     messenger issues ever since the last update i...  \n",
                            "2     profile any time my wife or anybody has more ...  \n",
                            "3     the new features suck for those of us who don...  \n",
                            "4     forced reload on uploading pic on replying co...  \n",
                            "..                                                 ...  \n",
                            "886   loved it i loooooooooooooovvved it because it...  \n",
                            "887   all time legendary game the birthday party le...  \n",
                            "888   ads are way to heavy listen to the bad review...  \n",
                            "889   fun works perfectly well ads arent as annoyin...  \n",
                            "890   theyre everywhere i see angry birds everywher...  \n",
                            "\n",
                            "[891 rows x 3 columns]"
                        ]
                    },
                    "execution_count": 5,
                    "metadata": {},
                    "output_type": "execute_result"
                }
            ],
            "source": [
                "#Limpiaremos los 'reviews' para quitar signos de puntuación\n",
                "\n",
                "# Eliminar signos de puntuación de la columna 'review'\n",
                "df_sentences['review_cleaned'] = df['review'].str.replace(f\"[{string.punctuation}]\", \"\", regex=True)\n",
                "df_sentences"
            ]
        },
        {
            "cell_type": "code",
            "execution_count": 6,
            "metadata": {},
            "outputs": [],
            "source": [
                "#Eliminamos la columna review donde estan los comentarios con signos de puntuación.\n",
                "df_sentences_clean = df_sentences.drop(columns = 'review')\n",
                "df_sentences_clean.to_csv('df_sentences_clean.csv')"
            ]
        },
        {
            "cell_type": "code",
            "execution_count": 7,
            "metadata": {},
            "outputs": [
                {
                    "data": {
                        "text/html": [
                            "<div>\n",
                            "<style scoped>\n",
                            "    .dataframe tbody tr th:only-of-type {\n",
                            "        vertical-align: middle;\n",
                            "    }\n",
                            "\n",
                            "    .dataframe tbody tr th {\n",
                            "        vertical-align: top;\n",
                            "    }\n",
                            "\n",
                            "    .dataframe thead th {\n",
                            "        text-align: right;\n",
                            "    }\n",
                            "</style>\n",
                            "<table border=\"1\" class=\"dataframe\">\n",
                            "  <thead>\n",
                            "    <tr style=\"text-align: right;\">\n",
                            "      <th></th>\n",
                            "      <th>polarity</th>\n",
                            "      <th>review_cleaned</th>\n",
                            "    </tr>\n",
                            "  </thead>\n",
                            "  <tbody>\n",
                            "    <tr>\n",
                            "      <th>0</th>\n",
                            "      <td>0</td>\n",
                            "      <td>privacy at least put some option appear offlin...</td>\n",
                            "    </tr>\n",
                            "    <tr>\n",
                            "      <th>1</th>\n",
                            "      <td>0</td>\n",
                            "      <td>messenger issues ever since the last update in...</td>\n",
                            "    </tr>\n",
                            "    <tr>\n",
                            "      <th>2</th>\n",
                            "      <td>0</td>\n",
                            "      <td>profile any time my wife or anybody has more t...</td>\n",
                            "    </tr>\n",
                            "    <tr>\n",
                            "      <th>3</th>\n",
                            "      <td>0</td>\n",
                            "      <td>the new features suck for those of us who dont...</td>\n",
                            "    </tr>\n",
                            "    <tr>\n",
                            "      <th>4</th>\n",
                            "      <td>0</td>\n",
                            "      <td>forced reload on uploading pic on replying com...</td>\n",
                            "    </tr>\n",
                            "    <tr>\n",
                            "      <th>...</th>\n",
                            "      <td>...</td>\n",
                            "      <td>...</td>\n",
                            "    </tr>\n",
                            "    <tr>\n",
                            "      <th>886</th>\n",
                            "      <td>1</td>\n",
                            "      <td>loved it i loooooooooooooovvved it because it ...</td>\n",
                            "    </tr>\n",
                            "    <tr>\n",
                            "      <th>887</th>\n",
                            "      <td>1</td>\n",
                            "      <td>all time legendary game the birthday party lev...</td>\n",
                            "    </tr>\n",
                            "    <tr>\n",
                            "      <th>888</th>\n",
                            "      <td>0</td>\n",
                            "      <td>ads are way to heavy listen to the bad reviews...</td>\n",
                            "    </tr>\n",
                            "    <tr>\n",
                            "      <th>889</th>\n",
                            "      <td>1</td>\n",
                            "      <td>fun works perfectly well ads arent as annoying...</td>\n",
                            "    </tr>\n",
                            "    <tr>\n",
                            "      <th>890</th>\n",
                            "      <td>1</td>\n",
                            "      <td>theyre everywhere i see angry birds everywhere...</td>\n",
                            "    </tr>\n",
                            "  </tbody>\n",
                            "</table>\n",
                            "<p>891 rows × 2 columns</p>\n",
                            "</div>"
                        ],
                        "text/plain": [
                            "     polarity                                     review_cleaned\n",
                            "0           0  privacy at least put some option appear offlin...\n",
                            "1           0  messenger issues ever since the last update in...\n",
                            "2           0  profile any time my wife or anybody has more t...\n",
                            "3           0  the new features suck for those of us who dont...\n",
                            "4           0  forced reload on uploading pic on replying com...\n",
                            "..        ...                                                ...\n",
                            "886         1  loved it i loooooooooooooovvved it because it ...\n",
                            "887         1  all time legendary game the birthday party lev...\n",
                            "888         0  ads are way to heavy listen to the bad reviews...\n",
                            "889         1  fun works perfectly well ads arent as annoying...\n",
                            "890         1  theyre everywhere i see angry birds everywhere...\n",
                            "\n",
                            "[891 rows x 2 columns]"
                        ]
                    },
                    "execution_count": 7,
                    "metadata": {},
                    "output_type": "execute_result"
                }
            ],
            "source": [
                "df_sentences_clean['review_cleaned'] = df_sentences_clean['review_cleaned'].str.strip().str.lower()\n",
                "df_sentences_clean"
            ]
        },
        {
            "cell_type": "markdown",
            "metadata": {},
            "source": [
                "## Partición de datos"
            ]
        },
        {
            "cell_type": "code",
            "execution_count": 8,
            "metadata": {},
            "outputs": [],
            "source": [
                "X = df_sentences_clean['review_cleaned']\n",
                "y = df_sentences_clean['polarity']\n",
                "X_train, X_test, y_train, y_test = train_test_split(X, y, test_size=0.2, random_state=42)"
            ]
        },
        {
            "cell_type": "code",
            "execution_count": 9,
            "metadata": {},
            "outputs": [],
            "source": [
                "# Realizamos el conteo de palabras en los textos usando CountVectorizer\n",
                "vectorizer = CountVectorizer()\n",
                "X_train_vec = vectorizer.fit_transform(X_train)\n",
                "X_test_vec = vectorizer.transform(X_test)"
            ]
        },
        {
            "cell_type": "code",
            "execution_count": 10,
            "metadata": {},
            "outputs": [
                {
                    "data": {
                        "text/plain": [
                            "array(['000', '10', '100', ..., 'žŕ', 'žŕľ', 'ˇŕ'],\n",
                            "      shape=(3770,), dtype=object)"
                        ]
                    },
                    "execution_count": 10,
                    "metadata": {},
                    "output_type": "execute_result"
                }
            ],
            "source": [
                "#Revisión de las palabras y caracteres seleccionados que aparecen en el array 'vectorizado'\n",
                "vectorizer.get_feature_names_out()"
            ]
        },
        {
            "cell_type": "code",
            "execution_count": 11,
            "metadata": {},
            "outputs": [
                {
                    "name": "stdout",
                    "output_type": "stream",
                    "text": [
                        "              precision    recall  f1-score   support\n",
                        "\n",
                        "           0       0.84      0.95      0.89       126\n",
                        "           1       0.83      0.57      0.67        53\n",
                        "\n",
                        "    accuracy                           0.84       179\n",
                        "   macro avg       0.84      0.76      0.78       179\n",
                        "weighted avg       0.84      0.84      0.83       179\n",
                        "\n"
                    ]
                }
            ],
            "source": [
                "# Inicializar y entrenar el clasificador Naive Bayes Multinomial\n",
                "model = MultinomialNB().fit(X_train_vec, y_train)\n",
                "\n",
                "# Realizar predicciones en el conjunto de prueba\n",
                "y_pred = model.predict(X_test_vec)\n",
                "\n",
                "# Evaluar el rendimiento del modelo\n",
                "print(classification_report(y_test, y_pred))"
            ]
        },
        {
            "cell_type": "markdown",
            "metadata": {},
            "source": [
                "### **Observaciones**\n",
                " - Referente al 'accuracy' el modelo predice con un 84% de forma acertiva las opiniones correctamente.\n",
                " - A priori, lo que podemos comentar es que el modelo puede predecir y clasifcar con mucha más facilidad y aciertos los comentarios negativos que los positivos. Sin embargo el objetivo es intentar identificar con mejor 'sensibilidad' "
            ]
        },
        {
            "cell_type": "markdown",
            "metadata": {},
            "source": [
                "## Optimización de Hiperparámetros"
            ]
        },
        {
            "cell_type": "code",
            "execution_count": 26,
            "metadata": {},
            "outputs": [
                {
                    "name": "stdout",
                    "output_type": "stream",
                    "text": [
                        "0.1\n"
                    ]
                }
            ],
            "source": [
                "#Definición y búsqueda de hiperparámetros para mejorar la sensibilidad (menos falsos negativos)\n",
                "model_nb = MultinomialNB()\n",
                "\n",
                "param_grid = {\n",
                "    'alpha': [0.1, 0.5, 1, 3, 5]\n",
                "}\n",
                "grid_search = GridSearchCV(estimator=model_nb, param_grid=param_grid, scoring='recall', cv=5)\n",
                "\n",
                "grid_search.fit(X_train_vec, y_train) \n",
                "best_hp= grid_search.best_params_['alpha']\n",
                "\n",
                "print(best_hp)"
            ]
        },
        {
            "cell_type": "markdown",
            "metadata": {},
            "source": [
                "### Probamos el modelo con los parámetros optimizados"
            ]
        },
        {
            "cell_type": "code",
            "execution_count": 29,
            "metadata": {},
            "outputs": [
                {
                    "name": "stdout",
                    "output_type": "stream",
                    "text": [
                        "              precision    recall  f1-score   support\n",
                        "\n",
                        "           0       0.88      0.90      0.89       126\n",
                        "           1       0.76      0.70      0.73        53\n",
                        "\n",
                        "    accuracy                           0.84       179\n",
                        "   macro avg       0.82      0.80      0.81       179\n",
                        "weighted avg       0.84      0.84      0.84       179\n",
                        "\n"
                    ]
                }
            ],
            "source": [
                "# Inicializar y entrenar el clasificador Naive Bayes Multinomial\n",
                "\n",
                "model_hiper = MultinomialNB(alpha = 0.1).fit(X_train_vec, y_train)\n",
                "\n",
                "# Realizar predicciones en el conjunto de prueba\n",
                "y_pred_hiper = model_hiper.predict(X_test_vec)\n",
                "\n",
                "# Evaluar el rendimiento del modelo\n",
                "print(classification_report(y_test, y_pred_hiper))"
            ]
        },
        {
            "cell_type": "markdown",
            "metadata": {},
            "source": [
                "### **Conclusiones**\n",
                "Si consideramos importante mejorar la sensibilidad del modelo, he tomado como parámetro de la optimización \"Recall\" en este caso considero que queremos minimizar los falsos negativos de modo que algún comentario negativo identificado correctamente sea lo menos probable y poder detectar en su mayoría los positivos identificados correctamente. El accuracy se ha mantenido en un muy buen porcentaje pero es verdad que hemos sacrificado un poco la precisión de los comentarios positivos, lo cual, desde mi punto de vista, poder identificar erróneamente un falso positivo no sería de mayor gravedad."
            ]
        }
    ],
    "metadata": {
        "kernelspec": {
            "display_name": "Python 3",
            "language": "python",
            "name": "python3"
        },
        "language_info": {
            "codemirror_mode": {
                "name": "ipython",
                "version": 3
            },
            "file_extension": ".py",
            "mimetype": "text/x-python",
            "name": "python",
            "nbconvert_exporter": "python",
            "pygments_lexer": "ipython3",
            "version": "3.11.4"
        },
        "orig_nbformat": 4
    },
    "nbformat": 4,
    "nbformat_minor": 2
}
